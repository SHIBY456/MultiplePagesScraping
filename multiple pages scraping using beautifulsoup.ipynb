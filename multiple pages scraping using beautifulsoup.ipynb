{
 "cells": [
  {
   "cell_type": "code",
   "execution_count": 1,
   "id": "613a8f01-9667-40f4-98ff-25137a0f6824",
   "metadata": {},
   "outputs": [],
   "source": [
    "import requests\n",
    "from bs4 import BeautifulSoup\n",
    "import pandas as pd\n",
    "\n"
   ]
  },
  {
   "cell_type": "code",
   "execution_count": 2,
   "id": "ed0adb2a-c02c-4a3f-881e-c65ff32860d7",
   "metadata": {},
   "outputs": [],
   "source": [
    "url=\"https://books.toscrape.com/catalogue/category/books_1/page-1.html\"\n",
    "page=requests.get(url)"
   ]
  },
  {
   "cell_type": "code",
   "execution_count": 3,
   "id": "912c160c-f4cf-449b-acf9-4707995a0abf",
   "metadata": {},
   "outputs": [
    {
     "name": "stdout",
     "output_type": "stream",
     "text": [
      "\n",
      "    Books | \n",
      "     Books to Scrape - Sandbox\n",
      "\n",
      "\n"
     ]
    }
   ],
   "source": [
    "soup=BeautifulSoup(page.text,\"html.parser\")\n",
    "print(soup.title.text)"
   ]
  },
  {
   "cell_type": "code",
   "execution_count": 4,
   "id": "c867f6d1-ee83-4679-bf7f-924966127526",
   "metadata": {},
   "outputs": [
    {
     "name": "stdout",
     "output_type": "stream",
     "text": [
      "currently scraping page: 1\n",
      "currently scraping page: 2\n",
      "currently scraping page: 3\n",
      "currently scraping page: 4\n",
      "currently scraping page: 5\n",
      "currently scraping page: 6\n",
      "currently scraping page: 7\n",
      "currently scraping page: 8\n",
      "currently scraping page: 9\n",
      "currently scraping page: 10\n",
      "currently scraping page: 11\n",
      "currently scraping page: 12\n",
      "currently scraping page: 13\n",
      "currently scraping page: 14\n",
      "currently scraping page: 15\n",
      "currently scraping page: 16\n",
      "currently scraping page: 17\n",
      "currently scraping page: 18\n",
      "currently scraping page: 19\n",
      "currently scraping page: 20\n",
      "currently scraping page: 21\n",
      "currently scraping page: 22\n",
      "currently scraping page: 23\n",
      "currently scraping page: 24\n",
      "currently scraping page: 25\n",
      "currently scraping page: 26\n",
      "currently scraping page: 27\n",
      "currently scraping page: 28\n",
      "currently scraping page: 29\n",
      "currently scraping page: 30\n",
      "currently scraping page: 31\n",
      "currently scraping page: 32\n",
      "currently scraping page: 33\n",
      "currently scraping page: 34\n",
      "currently scraping page: 35\n",
      "currently scraping page: 36\n",
      "currently scraping page: 37\n",
      "currently scraping page: 38\n",
      "currently scraping page: 39\n",
      "currently scraping page: 40\n",
      "currently scraping page: 41\n",
      "currently scraping page: 42\n",
      "currently scraping page: 43\n",
      "currently scraping page: 44\n",
      "currently scraping page: 45\n",
      "currently scraping page: 46\n",
      "currently scraping page: 47\n",
      "currently scraping page: 48\n",
      "currently scraping page: 49\n",
      "currently scraping page: 50\n",
      "currently scraping page: 51\n"
     ]
    },
    {
     "ename": "AttributeError",
     "evalue": "module 'pandas' has no attribute 'Dataframe'",
     "output_type": "error",
     "traceback": [
      "\u001b[1;31m---------------------------------------------------------------------------\u001b[0m",
      "\u001b[1;31mAttributeError\u001b[0m                            Traceback (most recent call last)",
      "\u001b[1;32m~\\AppData\\Local\\Temp\\ipykernel_6996\\2078416754.py\u001b[0m in \u001b[0;36m<module>\u001b[1;34m\u001b[0m\n\u001b[0;32m     25\u001b[0m \u001b[1;33m\u001b[0m\u001b[0m\n\u001b[0;32m     26\u001b[0m     \u001b[0mcurrent_page\u001b[0m \u001b[1;33m+=\u001b[0m\u001b[1;36m1\u001b[0m\u001b[1;33m\u001b[0m\u001b[1;33m\u001b[0m\u001b[0m\n\u001b[1;32m---> 27\u001b[1;33m \u001b[0mdf\u001b[0m\u001b[1;33m=\u001b[0m\u001b[0mpd\u001b[0m\u001b[1;33m.\u001b[0m\u001b[0mDataframe\u001b[0m\u001b[1;33m(\u001b[0m\u001b[0mdata\u001b[0m\u001b[1;33m)\u001b[0m\u001b[1;33m\u001b[0m\u001b[1;33m\u001b[0m\u001b[0m\n\u001b[0m\u001b[0;32m     28\u001b[0m \u001b[0mdf\u001b[0m\u001b[1;33m.\u001b[0m\u001b[0mto_csv\u001b[0m\u001b[1;33m(\u001b[0m\u001b[1;34m\"books.csv\"\u001b[0m\u001b[1;33m)\u001b[0m\u001b[1;33m\u001b[0m\u001b[1;33m\u001b[0m\u001b[0m\n",
      "\u001b[1;32m~\\anaconda3\\lib\\site-packages\\pandas\\__init__.py\u001b[0m in \u001b[0;36m__getattr__\u001b[1;34m(name)\u001b[0m\n\u001b[0;32m    259\u001b[0m         \u001b[1;32mreturn\u001b[0m \u001b[0m_SparseArray\u001b[0m\u001b[1;33m\u001b[0m\u001b[1;33m\u001b[0m\u001b[0m\n\u001b[0;32m    260\u001b[0m \u001b[1;33m\u001b[0m\u001b[0m\n\u001b[1;32m--> 261\u001b[1;33m     \u001b[1;32mraise\u001b[0m \u001b[0mAttributeError\u001b[0m\u001b[1;33m(\u001b[0m\u001b[1;34mf\"module 'pandas' has no attribute '{name}'\"\u001b[0m\u001b[1;33m)\u001b[0m\u001b[1;33m\u001b[0m\u001b[1;33m\u001b[0m\u001b[0m\n\u001b[0m\u001b[0;32m    262\u001b[0m \u001b[1;33m\u001b[0m\u001b[0m\n\u001b[0;32m    263\u001b[0m \u001b[1;33m\u001b[0m\u001b[0m\n",
      "\u001b[1;31mAttributeError\u001b[0m: module 'pandas' has no attribute 'Dataframe'"
     ]
    }
   ],
   "source": [
    "current_page=1\n",
    "data=[]\n",
    "proceed=True\n",
    "\n",
    "while (proceed):\n",
    "    print(\"currently scraping page: \"+str(current_page))\n",
    "    url=\"https://books.toscrape.com/catalogue/category/books_1/page-\"+str(current_page)+\".html\"\n",
    "    page=requests.get(url)\n",
    "    soup=BeautifulSoup(page.text,\"html.parser\")\n",
    "\n",
    "    if soup.title.text ==\"404 Not Found\":\n",
    "        proceed=False\n",
    "    else:\n",
    "        all_books=soup.find_all(\"li\",class_=\"col-xs-6 col-sm-4 col-md-3 col-lg-3\")\n",
    "        for book in all_books:\n",
    "            item={}\n",
    "            \n",
    "            item['Title']=book.find(\"img\").attrs[\"alt\"]\n",
    "            item[\"Link\"]=book.find(\"a\").attrs[\"href\"]\n",
    "            item[\"Price\"]=book.find(\"p\",class_=\"price_color\").text[2:]\n",
    "            item[\"stock\"]=book.find(\"p\",class_=\"instock availability\").text.strip()\n",
    "            data.append(item)\n",
    "            \n",
    "            \n",
    "        \n",
    "    current_page +=1\n",
    "df=pd.DataFrame(data)\n",
    "df.to_csv(\"books.csv\")"
   ]
  },
  {
   "cell_type": "code",
   "execution_count": 5,
   "id": "dd96317b",
   "metadata": {},
   "outputs": [],
   "source": [
    "df=pd.DataFrame(data)\n",
    "df.to_csv(\"books.csv\")"
   ]
  },
  {
   "cell_type": "code",
   "execution_count": null,
   "id": "4f6dc753",
   "metadata": {},
   "outputs": [],
   "source": []
  }
 ],
 "metadata": {
  "kernelspec": {
   "display_name": "Python 3 (ipykernel)",
   "language": "python",
   "name": "python3"
  },
  "language_info": {
   "codemirror_mode": {
    "name": "ipython",
    "version": 3
   },
   "file_extension": ".py",
   "mimetype": "text/x-python",
   "name": "python",
   "nbconvert_exporter": "python",
   "pygments_lexer": "ipython3",
   "version": "3.9.13"
  }
 },
 "nbformat": 4,
 "nbformat_minor": 5
}
